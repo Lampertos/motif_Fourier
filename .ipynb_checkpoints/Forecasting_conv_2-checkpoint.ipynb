{
 "cells": [
  {
   "cell_type": "code",
   "execution_count": 1,
   "id": "251a815d",
   "metadata": {},
   "outputs": [],
   "source": [
    "import numpy as np\n",
    "\n",
    "from data_.load_ts import give_ts, data_split_config\n",
    "from module.rc_class import RC\n",
    "from module._rc_operations import reservoir\n",
    "\n",
    "from module.process_ts import process_ts_slow\n",
    "\n",
    "from module._rc_operations import cycle\n",
    "\n",
    "from module.construct_q import Q_mtx_fast\n"
   ]
  },
  {
   "cell_type": "code",
   "execution_count": 2,
   "id": "6de25529",
   "metadata": {},
   "outputs": [],
   "source": [
    "def process_ts(x_ts, interval_len, train_size, noise_length, horizon=1, test_size=0):\n",
    "    # Roberto's code somehow takes the transposed data, here we fix so to be consistent\n",
    "    x_ts = x_ts.T\n",
    "\n",
    "    N, n_ts = x_ts.shape\n",
    "\n",
    "    print(N, n_ts)\n",
    "\n",
    "    val_start = train_size + interval_len + 1\n",
    "    val_size = noise_length - val_start - test_size\n",
    "    test_start = train_size + interval_len + 1 + val_size\n",
    "\n",
    "    def rolling_windows(start, num_win):\n",
    "\n",
    "        x = np.zeros((num_win, n_ts, interval_len))\n",
    "        y = np.zeros((num_win, n_ts, horizon))\n",
    "\n",
    "        x = np.zeros((num_win, interval_len))\n",
    "        y = np.zeros((num_win, horizon))\n",
    "\n",
    "        for j in range(start, start + num_win):\n",
    "            x[j - start, ...] = x_ts[j - interval_len: j, :][::-1, :].T\n",
    "\n",
    "            y[j - start, ...] = x_ts[j: j + horizon, :].T\n",
    "\n",
    "        return x, y\n",
    "\n",
    "    data_ts, y_ts = rolling_windows(interval_len, train_size)\n",
    "    if val_size > 0:\n",
    "        val_ts, y_val = rolling_windows(val_start, val_size)\n",
    "    else:\n",
    "        val_ts, y_val = None, None\n",
    "\n",
    "    if test_size > 0:\n",
    "        test_ts, y_test = rolling_windows(test_start, test_size)\n",
    "    else:\n",
    "        test_ts, y_test = None, None\n",
    "\n",
    "    return data_ts, y_ts, val_ts, y_val, test_ts, y_test"
   ]
  },
  {
   "cell_type": "code",
   "execution_count": 23,
   "id": "f71fba83",
   "metadata": {},
   "outputs": [],
   "source": [
    "from module.rc_conv_class import conv_main, NonlinearReadout, RidgeReadout, SVRReadout"
   ]
  },
  {
   "cell_type": "code",
   "execution_count": 4,
   "id": "7dc56bc7",
   "metadata": {},
   "outputs": [],
   "source": [
    "n_res = 97\n",
    "washout = 20 # same as look-back, memory tau, etc, \n",
    "\n",
    "horizon = 300\n",
    "ridge_coeff = 1e-8"
   ]
  },
  {
   "cell_type": "code",
   "execution_count": 11,
   "id": "c8f5e844",
   "metadata": {},
   "outputs": [],
   "source": [
    "n_ts = 1\n",
    "rc_nonlinear = 0\n",
    "\n",
    "interval_len = washout\n",
    "time_series_type = 'ecl'\n",
    "test_flag = 1\n",
    "\n",
    "\n",
    "train_size, noise_length, test_size, train_size_conf = data_split_config(time_series_type, interval_len, 1)\n",
    "validation_size = noise_length - train_size - interval_len -1 - test_size\n",
    "\n",
    "noise_length_h = noise_length\n",
    "noise_length += horizon\n",
    "noise_length_conf = noise_length_h - interval_len\n",
    "noise_length_h = noise_length - horizon\n",
    "\n",
    "val_start = train_size + washout + 1\n",
    "\n",
    "x_ts, noise_length = give_ts(name = time_series_type, n_ts = n_ts, noise_length = noise_length)\n",
    "x_ts = (x_ts - x_ts.mean())/ x_ts.std()\n",
    "data = x_ts[0]\n",
    "\n",
    "test_flag = 1\n",
    "\n",
    "# Threshold of whether we run MLP instead of ridge, seems like ridge is still faster\n",
    "\n",
    "n_res_threshold = 100000\n",
    "\n",
    "validation_flag = 0\n",
    "\n",
    "spectral_radius = 1"
   ]
  },
  {
   "cell_type": "code",
   "execution_count": 12,
   "id": "77d17673",
   "metadata": {},
   "outputs": [],
   "source": [
    "if validation_flag == 1:\n",
    "    val_start = train_size + washout +1\n",
    "#     test_size_val = noise_length - val_start - test_size - horizon\n",
    "    rang1  =range(val_start, noise_length - test_size-horizon )\n",
    "else:\n",
    "    val_start = train_size + washout +1  + validation_size\n",
    "    rang1  =range(val_start, noise_length - horizon )"
   ]
  },
  {
   "cell_type": "code",
   "execution_count": 13,
   "id": "e3ad16c6",
   "metadata": {},
   "outputs": [],
   "source": [
    "ts_pieces, y_pieces, val_pieces, y_val_pieces, test_pieces, y_test_pieces = process_ts_slow(x_ts, interval_len, train_size = train_size ,noise_length = noise_length_h, return_only_ts = 0, horizon = horizon, test_flag = test_flag, test_size = test_size)\n"
   ]
  },
  {
   "cell_type": "code",
   "execution_count": 33,
   "id": "69a3d3f4",
   "metadata": {},
   "outputs": [
    {
     "name": "stdout",
     "output_type": "stream",
     "text": [
      "[array([[-0.68078072, -0.75756086, -0.77005995, ...,  0.8137535 ,\n",
      "         0.86196429,  1.06552092],\n",
      "       [-0.75756086, -0.77005995, -0.90933554, ...,  0.86196429,\n",
      "         1.06552092,  1.13158755],\n",
      "       [-0.77005995, -0.90933554, -0.83612658, ...,  1.06552092,\n",
      "         1.13158755,  0.73161662],\n",
      "       ...,\n",
      "       [ 0.27450698, -0.08260992, -0.33437733, ..., -1.40572803,\n",
      "        -1.53250453, -1.52357661],\n",
      "       [-0.08260992, -0.33437733, -0.59685825, ..., -1.53250453,\n",
      "        -1.52357661, -1.51464869],\n",
      "       [-0.33437733, -0.59685825, -0.66113929, ..., -1.52357661,\n",
      "        -1.51464869, -1.42179829]])]\n"
     ]
    }
   ],
   "source": [
    "print(y_test_pieces)"
   ]
  },
  {
   "cell_type": "code",
   "execution_count": 14,
   "id": "4e38cec6",
   "metadata": {},
   "outputs": [],
   "source": [
    "#print('Creating reservoir...')\n",
    "\n",
    "_, Win = reservoir(n_res,1, spectral_radius = spectral_radius)\n",
    "\n",
    "W = cycle(n_res, spectral_radius = spectral_radius)\n",
    "#print('Computing Q...')\n",
    "Qp = Q_mtx_fast(W, Win, interval_len)\n",
    "#print('Computing motifs...')\n",
    "motif, motif_weight, _ = np.linalg.svd(Qp, full_matrices=True)"
   ]
  },
  {
   "cell_type": "code",
   "execution_count": 15,
   "id": "b642ffa0",
   "metadata": {},
   "outputs": [],
   "source": [
    "model = RidgeReadout(interval_len, ridge_coeff)"
   ]
  },
  {
   "cell_type": "code",
   "execution_count": 20,
   "id": "00f374db",
   "metadata": {},
   "outputs": [
    {
     "data": {
      "text/plain": [
       "(20, 10780)"
      ]
     },
     "execution_count": 20,
     "metadata": {},
     "output_type": "execute_result"
    }
   ],
   "source": [
    "ts_pieces[0].T.shape"
   ]
  },
  {
   "cell_type": "code",
   "execution_count": 34,
   "id": "69dac70c",
   "metadata": {},
   "outputs": [],
   "source": [
    "ts_pieces = ts_pieces[0]\n",
    "y_pieces = y_pieces[0]\n",
    "val_pieces = val_pieces[0]\n",
    "y_val_pieces = y_val_pieces[0]\n",
    "test_pieces = test_pieces[0]\n",
    "y_test_pieces = y_test_pieces[0]"
   ]
  },
  {
   "cell_type": "code",
   "execution_count": 35,
   "id": "f3cf20a7",
   "metadata": {},
   "outputs": [
    {
     "name": "stdout",
     "output_type": "stream",
     "text": [
      "Test loss (MSE, MAE): [0.87435902 0.71214248]\n"
     ]
    }
   ],
   "source": [
    "test_loss, train_loss = conv_main(model, motif, ts_pieces, y_pieces,\n",
    "                                  test_pieces, y_test_pieces,\n",
    "                                  x_val=val_pieces, y_val=y_val_pieces,\n",
    "                                  plot_flag=False)\n",
    "\n",
    "print('Test loss (MSE, MAE):', test_loss)"
   ]
  },
  {
   "cell_type": "code",
   "execution_count": null,
   "id": "1e79f0a6",
   "metadata": {},
   "outputs": [],
   "source": []
  }
 ],
 "metadata": {
  "kernelspec": {
   "display_name": "Python 3 (ipykernel)",
   "language": "python",
   "name": "python3"
  },
  "language_info": {
   "codemirror_mode": {
    "name": "ipython",
    "version": 3
   },
   "file_extension": ".py",
   "mimetype": "text/x-python",
   "name": "python",
   "nbconvert_exporter": "python",
   "pygments_lexer": "ipython3",
   "version": "3.11.5"
  }
 },
 "nbformat": 4,
 "nbformat_minor": 5
}
