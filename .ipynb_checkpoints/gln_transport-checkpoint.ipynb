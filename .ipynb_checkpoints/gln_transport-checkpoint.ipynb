{
 "cells": [
  {
   "cell_type": "code",
   "execution_count": null,
   "id": "a854b142",
   "metadata": {},
   "outputs": [],
   "source": [
    "import numpy as np\n",
    "from scipy.linalg import expm, logm\n",
    "\n",
    "def transport(A, B, X):\n",
    "    '''\n",
    "    A is the initial point\n",
    "    B is the target point\n",
    "    X is the tangent vector\n",
    "    \n",
    "    Returns tangent vector at B\n",
    "    '''\n",
    "    \n",
    "    V = logm(np.linalg.inv(A) @ B)\n",
    "    \n",
    "    # Adjoint action on the Lie algebra\n",
    "    transported_X = expm(V) @ X @ expm(-V)\n",
    "    \n",
    "    return transported_X"
   ]
  }
 ],
 "metadata": {
  "kernelspec": {
   "display_name": "Python 3 (ipykernel)",
   "language": "python",
   "name": "python3"
  },
  "language_info": {
   "codemirror_mode": {
    "name": "ipython",
    "version": 3
   },
   "file_extension": ".py",
   "mimetype": "text/x-python",
   "name": "python",
   "nbconvert_exporter": "python",
   "pygments_lexer": "ipython3",
   "version": "3.11.5"
  }
 },
 "nbformat": 4,
 "nbformat_minor": 5
}
